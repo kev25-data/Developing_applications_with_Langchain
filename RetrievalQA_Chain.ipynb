{
 "cells": [
  {
   "cell_type": "code",
   "execution_count": 2,
   "metadata": {},
   "outputs": [],
   "source": [
    "import os\n",
    "from dotenv import load_dotenv\n",
    "\n",
    "load_dotenv()\n",
    "\n",
    "OPENAI_API_KEY = os.getenv(\"OPEN_AI_KEY\")\n",
    "os.environ['OPENAI_API_KEY'] = OPENAI_API_KEY"
   ]
  },
  {
   "cell_type": "code",
   "execution_count": 3,
   "metadata": {},
   "outputs": [],
   "source": [
    "from langchain_openai import ChatOpenAI\n",
    "\n",
    "llm_gpt3_5 = ChatOpenAI(\n",
    "    model_name = \"gpt-3.5-turbo\",\n",
    "    n = 1, #numero de diferentes respuestas\n",
    "    temperature = 0.3\n",
    ")"
   ]
  },
  {
   "cell_type": "code",
   "execution_count": 4,
   "metadata": {},
   "outputs": [
    {
     "name": "stderr",
     "output_type": "stream",
     "text": [
      "/var/folders/0z/s0pfsfdn61b_3c4kn01_hktc0000gn/T/ipykernel_6447/2391006306.py:15: LangChainDeprecationWarning: The class `OpenAIEmbeddings` was deprecated in LangChain 0.0.9 and will be removed in 1.0. An updated version of the class exists in the :class:`~langchain-openai package and should be used instead. To use it run `pip install -U :class:`~langchain-openai` and import as `from :class:`~langchain_openai import OpenAIEmbeddings``.\n",
      "  embeddings = OpenAIEmbeddings()\n"
     ]
    }
   ],
   "source": [
    "import requests\n",
    "from langchain.document_loaders import PyPDFLoader\n",
    "from langchain.vectorstores import Chroma\n",
    "from langchain.embeddings.openai import OpenAIEmbeddings\n",
    "\n",
    "url = 'https://www.cs.virginia.edu/~evans/greatworks/diffie.pdf'\n",
    "response = requests.get(url)\n",
    "\n",
    "with open('public_key_cryptography.pdf', 'wb') as f:\n",
    "    f.write(response.content)\n",
    "\n",
    "loader = PyPDFLoader(\"./public_key_cryptography.pdf\")\n",
    "data = loader.load()\n",
    "\n",
    "embeddings = OpenAIEmbeddings()\n",
    "vectorstore = Chroma.from_documents(data, embeddings)"
   ]
  },
  {
   "cell_type": "code",
   "execution_count": 5,
   "metadata": {},
   "outputs": [],
   "source": [
    "from langchain.chains import RetrievalQA\n",
    "\n",
    "cadena_que_resuelve_preguntas = RetrievalQA.from_chain_type(\n",
    "    llm = llm_gpt3_5,\n",
    "    chain_type = \"stuff\",\n",
    "    retriever = vectorstore.as_retriever(search_kwargs = {\"k\":2}),\n",
    ")"
   ]
  },
  {
   "cell_type": "code",
   "execution_count": 6,
   "metadata": {},
   "outputs": [],
   "source": [
    "info = cadena_que_resuelve_preguntas.invoke(\"Cual es la relevancia en la criptografia de la llave publica\")"
   ]
  },
  {
   "cell_type": "code",
   "execution_count": 8,
   "metadata": {},
   "outputs": [
    {
     "name": "stdout",
     "output_type": "stream",
     "text": [
      "La relevancia de la llave pública en criptografía es fundamental, ya que permite a los usuarios comunicarse de forma segura sin necesidad de compartir sus claves secretas. La llave pública se utiliza para cifrar mensajes que solo pueden ser descifrados por la correspondiente clave privada, lo que garantiza la confidencialidad de la comunicación. Además, la llave pública se utiliza para autenticar la identidad de los participantes en la comunicación, lo que contribuye a la seguridad de las transmisiones.\n"
     ]
    }
   ],
   "source": [
    "print(info['result'])"
   ]
  },
  {
   "cell_type": "code",
   "execution_count": null,
   "metadata": {},
   "outputs": [],
   "source": []
  }
 ],
 "metadata": {
  "kernelspec": {
   "display_name": "venv",
   "language": "python",
   "name": "python3"
  },
  "language_info": {
   "codemirror_mode": {
    "name": "ipython",
    "version": 3
   },
   "file_extension": ".py",
   "mimetype": "text/x-python",
   "name": "python",
   "nbconvert_exporter": "python",
   "pygments_lexer": "ipython3",
   "version": "3.13.2"
  }
 },
 "nbformat": 4,
 "nbformat_minor": 2
}
